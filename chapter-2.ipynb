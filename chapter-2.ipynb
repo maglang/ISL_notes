{
 "cells": [
  {
   "cell_type": "markdown",
   "metadata": {},
   "source": [
    "### Chapter 2 Exercises"
   ]
  },
  {
   "cell_type": "markdown",
   "metadata": {},
   "source": [
    "1. Will a flexible method work better than an inflexible one?\n",
    "\n",
    "a. sample size is large and predictors are small: Better. With large datasets, you can assume that you can capture real-world data better than smaller datasets. A flexible method may work better under this assumption.\n",
    "\n",
    "b. number of predictors is large and number of observations is small: Worse. You might capture a lot of noise from the large number of predictors and considering your observations is small, you might not have a good sample of real-world data.\n",
    "\n",
    "c. relationship between predictors and response is highly non-linear: Better. Flexible methods can describe non-linear relationships better.\n",
    "\n",
    "d. variance of error terms is high: Worse. You might capture the noise from the high variance. This situation also calls for more predictors."
   ]
  },
  {
   "cell_type": "markdown",
   "metadata": {},
   "source": [
    "2. Classification or Regression? Provide n and p.\n",
    "\n",
    "a. "
   ]
  }
 ],
 "metadata": {
  "language_info": {
   "codemirror_mode": {
    "name": "ipython",
    "version": 3
   },
   "file_extension": ".py",
   "mimetype": "text/x-python",
   "name": "python",
   "nbconvert_exporter": "python",
   "pygments_lexer": "ipython3",
   "version": "3.7.3-final"
  },
  "orig_nbformat": 2,
  "kernelspec": {
   "name": "python3",
   "display_name": "Python 3"
  }
 },
 "nbformat": 4,
 "nbformat_minor": 2
}